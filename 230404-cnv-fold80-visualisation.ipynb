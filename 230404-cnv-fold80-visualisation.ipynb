{
 "cells": [
  {
   "cell_type": "code",
   "execution_count": 1,
   "metadata": {},
   "outputs": [],
   "source": [
    "import pandas as pd\n",
    "import matplotlib.pyplot as plt\n",
    "import numpy as np\n",
    "import seaborn as sns\n",
    "\n",
    "#PATH = '/home/adriana/Projects/CNV/230404-fold80-investigation'\n",
    "PATH = '/Users/adriana/Projects/cnv/gCNV-validation'"
   ]
  },
  {
   "cell_type": "code",
   "execution_count": null,
   "metadata": {},
   "outputs": [],
   "source": [
    "run50HS = pd.read_csv(f'{PATH}/0050-hs-metrics.txt', sep='\\t')\n",
    "run42HS = pd.read_csv(f'{PATH}/0042-hs-metrics.txt', sep='\\t')\n",
    "run39HS = pd.read_csv(f'{PATH}/0039-hs-metrics.txt', sep='\\t')\n",
    "run50HS['Run'] = '0050'\n",
    "run42HS['Run'] = '0042'\n",
    "run39HS['Run'] = '0039'\n",
    "\n",
    "run50FQ = pd.read_csv(f'{PATH}/0050-fastqc.txt', sep='\\t')\n",
    "run39FQ = pd.read_csv(f'{PATH}/0039-fastqc.txt', sep='\\t')\n",
    "run42FQ = pd.read_csv(f'{PATH}/0042-fastqc.txt', sep='\\t')\n",
    "run39FQ['Run'] = '0039'\n",
    "run42FQ['Run'] = '0042'\n",
    "run50FQ['Run'] = '0050'"
   ]
  },
  {
   "cell_type": "code",
   "execution_count": null,
   "metadata": {},
   "outputs": [],
   "source": [
    "allrunsHS = pd.concat([run50HS, run42HS, run39HS])\n",
    "plt.style.use('ggplot')"
   ]
  },
  {
   "cell_type": "code",
   "execution_count": null,
   "metadata": {},
   "outputs": [],
   "source": [
    "sns.scatterplot(x='Sample', y='FOLD_80_BASE_PENALTY', hue='Run', data=allrunsHS)\n",
    "plt.axhline(y=1.3,color='r',linestyle='--')\n",
    "#plt.xticks(rotation=90)"
   ]
  },
  {
   "cell_type": "code",
   "execution_count": null,
   "metadata": {},
   "outputs": [],
   "source": [
    "CNVsamples=allrunsHS.loc[allrunsHS['Sample'].str.startswith('C')]\n",
    "\n"
   ]
  },
  {
   "cell_type": "code",
   "execution_count": null,
   "metadata": {},
   "outputs": [],
   "source": [
    "sns.scatterplot(x='Sample', y='FOLD_80_BASE_PENALTY', hue='Run', data=CNVsamples)\n",
    "plt.axhline(y=1.3,color='r',linestyle='--')\n",
    "plt.figszie=(500,100)\n",
    "plt.xticks(rotation=90)"
   ]
  },
  {
   "cell_type": "code",
   "execution_count": null,
   "metadata": {},
   "outputs": [],
   "source": [
    "CNVsamples.sort_values(by=['FOLD_80_BASE_PENALTY'],ascending=False)[['Sample'  ,'FOLD_80_BASE_PENALTY','Run']]"
   ]
  },
  {
   "cell_type": "code",
   "execution_count": null,
   "metadata": {},
   "outputs": [],
   "source": [
    "import dxpy"
   ]
  },
  {
   "cell_type": "code",
   "execution_count": null,
   "metadata": {},
   "outputs": [],
   "source": [
    "project_ids = []\n",
    "projects=dxpy.bindings.search.find_projects(name=\"002_*A*_CEN\",name_mode=\"glob\",describe=True)\n",
    "for project in projects:\n",
    "    project_ids.append(project['describe']['id'])"
   ]
  },
  {
   "cell_type": "code",
   "execution_count": null,
   "metadata": {},
   "outputs": [],
   "source": [
    "print(project_ids)"
   ]
  },
  {
   "cell_type": "code",
   "execution_count": null,
   "metadata": {},
   "outputs": [],
   "source": [
    "example_id='project-GBkKPvQ4kYyF88304g4fzbYv'\n",
    "example_id2='project-GPy5K684zvb1GXyBb1B2gxf6'\n",
    "project_name=dxpy.api.project_describe(example_id)['name'][4:33]\n",
    "\n",
    "hs_metrics = list(dxpy.bindings.search.find_data_objects(classname=\"file\",describe=True, project=example_id2,name=\"multiqc_picard_HsMetrics.txt\",name_mode=\"exact\"))\n",
    "live_files=[x for x in hs_metrics if x['describe']['archivalState'] == 'live']\n",
    "\n",
    "if live_files:\n",
    "    print(live_files)\n",
    "else:\n",
    "    print('No hs_metrics found')\n"
   ]
  },
  {
   "cell_type": "code",
   "execution_count": null,
   "metadata": {},
   "outputs": [],
   "source": [
    "\n",
    "for project in project_ids:\n",
    "    project_name=dxpy.api.project_describe(project)['name'][4:33]\n",
    "    #print(project_name)\n",
    "    hs_metrics = list(dxpy.bindings.search.find_data_objects(classname=\"file\",describe=True, project=project,name=\"multiqc_picard_HsMetrics.txt\",name_mode=\"exact\"))\n",
    "    live_files=[x for x in hs_metrics if x['describe']['archivalState'] == 'live']\n",
    "\n",
    "    if live_files:\n",
    "        dxpy.bindings.dxfile_functions.download_dxfile(live_files[0]['id'],filename=f'{project_name}-hs-metrics.txt',project=project)"
   ]
  },
  {
   "cell_type": "code",
   "execution_count": null,
   "metadata": {},
   "outputs": [],
   "source": []
  },
  {
   "cell_type": "code",
   "execution_count": null,
   "metadata": {},
   "outputs": [],
   "source": [
    "import os\n",
    "data=pd.DataFrame()\n",
    "for filename in os.listdir(PATH):\n",
    "    if filename.endswith(\"hs-metrics.txt\"):\n",
    "        run_name=filename[:-15]\n",
    "        tmp_df=pd.read_csv(f'{PATH}/{filename}', sep='\\t')\n",
    "        tmp_df['Run']=run_name\n",
    "        data = pd.concat([data,tmp_df])"
   ]
  },
  {
   "cell_type": "code",
   "execution_count": null,
   "metadata": {},
   "outputs": [],
   "source": [
    "data.Run.unique()"
   ]
  },
  {
   "cell_type": "code",
   "execution_count": null,
   "metadata": {},
   "outputs": [],
   "source": [
    "plt.style.use('ggplot')\n",
    "sns.histplot(data=data.FOLD_80_BASE_PENALTY,bins=40)\n",
    "\n",
    "data.shape\n"
   ]
  },
  {
   "cell_type": "code",
   "execution_count": null,
   "metadata": {},
   "outputs": [],
   "source": [
    "plt.style.use('ggplot')\n",
    "above_cutoff=data.loc[data['FOLD_80_BASE_PENALTY']>1.3]\n",
    "sns.histplot(data=above_cutoff.FOLD_80_BASE_PENALTY,bins=15)\n",
    "#plt.ayhline(x=1.3,color='r',linestyle='--')"
   ]
  },
  {
   "cell_type": "code",
   "execution_count": 10,
   "metadata": {},
   "outputs": [],
   "source": [
    "print(len(list(data.Run.unique())))\n",
    "above_cutoff_high=data.loc[data['FOLD_80_BASE_PENALTY']>1.5]\n",
    "\n",
    "print(len(list(above_cutoff_high.Run.unique())))\n",
    "print(len(list(above_cutoff.Run.unique())))"
   ]
  },
  {
   "cell_type": "code",
   "execution_count": null,
   "metadata": {},
   "outputs": [],
   "source": [
    "sns.histplot(data=above_cutoff_high.FOLD_80_BASE_PENALTY,bins=20)\n"
   ]
  },
  {
   "cell_type": "code",
   "execution_count": null,
   "metadata": {},
   "outputs": [],
   "source": [
    "ax=sns.scatterplot(x='Sample', y='FOLD_80_BASE_PENALTY', hue='Run', data=above_cutoff_high)\n",
    "sns.move_legend(ax, 'upper left',bbox_to_anchor=(1,1))\n",
    "labels=plt.xticks(rotation=90)"
   ]
  },
  {
   "cell_type": "code",
   "execution_count": null,
   "metadata": {},
   "outputs": [],
   "source": [
    "sns.countplot(x='Run', data=above_cutoff_high,order=above_cutoff_high['Run'].value_counts().index)\n",
    "x=plt.xticks(rotation=90)"
   ]
  },
  {
   "cell_type": "code",
   "execution_count": null,
   "metadata": {},
   "outputs": [],
   "source": [
    "above_cutoff_high[above_cutoff_high.Sample.str.startswith('X224279')].FOLD_80_BASE_PENALTY\n"
   ]
  },
  {
   "attachments": {},
   "cell_type": "markdown",
   "metadata": {},
   "source": [
    "## Investigate in conjuction with gcnv.bed\n",
    "\n",
    "Downloaded and unziped following file for run 124 file-GP6X5484GxyxP0JY5V9j2pY5\n"
   ]
  },
  {
   "cell_type": "code",
   "execution_count": null,
   "metadata": {},
   "outputs": [],
   "source": [
    "gcnv_124=pd.read_csv(f'{PATH}/002_221130_A01303_0124_AHMTC5DRX2_CEN_copy_ratios-chr20.gcnv.bed', sep='\\t')\n",
    "chr20_gcnv_mean = gcnv_124.mean().drop(['chr','start','end']).to_frame(name='CP_mean')\n",
    "chr20_gcnv_mean"
   ]
  },
  {
   "cell_type": "code",
   "execution_count": null,
   "metadata": {},
   "outputs": [],
   "source": [
    "subset124=data[data.Run=='221130_A01303_0124_AHMTC5DRX2'][['Sample','FOLD_80_BASE_PENALTY', 'HS_PENALTY_20X', 'HS_PENALTY_30X', 'HS_PENALTY_40X', 'HS_PENALTY_50X',\n",
    "       'HS_PENALTY_100X']].sort_values(by=['FOLD_80_BASE_PENALTY'],ascending=False).set_index('Sample')"
   ]
  },
  {
   "cell_type": "code",
   "execution_count": null,
   "metadata": {},
   "outputs": [],
   "source": [
    "combined = chr20_gcnv_mean.join(subset124, how='inner')"
   ]
  },
  {
   "cell_type": "code",
   "execution_count": null,
   "metadata": {},
   "outputs": [],
   "source": [
    "combined.sort_values(by=['FOLD_80_BASE_PENALTY'])"
   ]
  },
  {
   "cell_type": "code",
   "execution_count": null,
   "metadata": {},
   "outputs": [],
   "source": [
    "sns.scatterplot(data=combined,x=combined.CP_mean,y=combined.FOLD_80_BASE_PENALTY)"
   ]
  },
  {
   "cell_type": "code",
   "execution_count": null,
   "metadata": {},
   "outputs": [],
   "source": [
    "fig,axs = plt.subplots(2,3)\n",
    "ax1 = sns.scatterplot(data=combined,x=combined.CP_mean,y=combined.HS_PENALTY_30X)"
   ]
  },
  {
   "cell_type": "code",
   "execution_count": null,
   "metadata": {},
   "outputs": [],
   "source": []
  }
 ],
 "metadata": {
  "kernelspec": {
   "display_name": "Python 3.9.6 64-bit",
   "language": "python",
   "name": "python3"
  },
  "language_info": {
   "codemirror_mode": {
    "name": "ipython",
    "version": 3
   },
   "file_extension": ".py",
   "mimetype": "text/x-python",
   "name": "python",
   "nbconvert_exporter": "python",
   "pygments_lexer": "ipython3",
   "version": "3.9.6"
  },
  "orig_nbformat": 4,
  "vscode": {
   "interpreter": {
    "hash": "31f2aee4e71d21fbe5cf8b01ff0e069b9275f58929596ceb00d14d90e3e16cd6"
   }
  }
 },
 "nbformat": 4,
 "nbformat_minor": 2
}
