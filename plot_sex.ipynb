{
 "cells": [
  {
   "cell_type": "code",
   "execution_count": null,
   "metadata": {},
   "outputs": [],
   "source": []
  },
  {
   "cell_type": "code",
   "execution_count": 1,
   "metadata": {},
   "outputs": [],
   "source": [
    "import pandas as pd\n",
    "import re\n",
    "from pathlib import Path\n",
    "import seaborn as sns; sns.set()\n",
    "import matplotlib.pyplot as plt"
   ]
  },
  {
   "cell_type": "code",
   "execution_count": 2,
   "metadata": {},
   "outputs": [],
   "source": [
    "directory=\"/home/adriana/Projects/CNV/Validation/sex_distribution\""
   ]
  },
  {
   "cell_type": "code",
   "execution_count": 3,
   "metadata": {},
   "outputs": [],
   "source": [
    "all_samples=pd.DataFrame(columns=[\"run\",\"Sample_ID\",\"Sample_Name\",\"Sample_Plate\",\"Sample_Well\",\"Index_Plate_Well\",\"index\",\"index2\"])\n",
    "\n",
    "files = Path(directory).glob('*csv')\n",
    "for file in files:\n",
    "    df = pd.read_csv(file,index_col=None)\n",
    "    filename=Path(file).name\n",
    "    df['run']=filename\n",
    "\n",
    "    all_samples=pd.concat([all_samples,df],ignore_index=True)\n",
    "\n"
   ]
  },
  {
   "cell_type": "code",
   "execution_count": 4,
   "metadata": {},
   "outputs": [],
   "source": [
    "#pd.set_option(\"display.max_rows\", None, \"display.max_columns\", None)\n",
    "\n"
   ]
  },
  {
   "cell_type": "code",
   "execution_count": 5,
   "metadata": {},
   "outputs": [],
   "source": [
    "samples_sex=all_samples[[\"run\",\"Sample_Name\"]]"
   ]
  },
  {
   "cell_type": "code",
   "execution_count": 6,
   "metadata": {},
   "outputs": [
    {
     "name": "stderr",
     "output_type": "stream",
     "text": [
      "/tmp/ipykernel_412683/1166339021.py:2: SettingWithCopyWarning: \n",
      "A value is trying to be set on a copy of a slice from a DataFrame.\n",
      "Try using .loc[row_indexer,col_indexer] = value instead\n",
      "\n",
      "See the caveats in the documentation: https://pandas.pydata.org/pandas-docs/stable/user_guide/indexing.html#returning-a-view-versus-a-copy\n",
      "  samples_sex[\"run\"] = samples_sex['run'].str.replace('002_','')\n",
      "/tmp/ipykernel_412683/1166339021.py:3: FutureWarning: The default value of regex will change from True to False in a future version.\n",
      "  samples_sex[\"run\"] = samples_sex['run'].str.replace('_CEN_SampleSheet.csv','')\n",
      "/tmp/ipykernel_412683/1166339021.py:3: SettingWithCopyWarning: \n",
      "A value is trying to be set on a copy of a slice from a DataFrame.\n",
      "Try using .loc[row_indexer,col_indexer] = value instead\n",
      "\n",
      "See the caveats in the documentation: https://pandas.pydata.org/pandas-docs/stable/user_guide/indexing.html#returning-a-view-versus-a-copy\n",
      "  samples_sex[\"run\"] = samples_sex['run'].str.replace('_CEN_SampleSheet.csv','')\n"
     ]
    }
   ],
   "source": [
    "#samples_sex[\"run\"] = samples_sex['run'].map(lambda x: x.lstrip('002_').rstrip('_CEN_SampleSheet.csv'))\n",
    "samples_sex[\"run\"] = samples_sex['run'].str.replace('002_','')\n",
    "samples_sex[\"run\"] = samples_sex['run'].str.replace('_CEN_SampleSheet.csv','')\n",
    "\n",
    "\n"
   ]
  },
  {
   "cell_type": "code",
   "execution_count": 7,
   "metadata": {},
   "outputs": [
    {
     "name": "stderr",
     "output_type": "stream",
     "text": [
      "/tmp/ipykernel_412683/3062512628.py:1: SettingWithCopyWarning: \n",
      "A value is trying to be set on a copy of a slice from a DataFrame.\n",
      "Try using .loc[row_indexer,col_indexer] = value instead\n",
      "\n",
      "See the caveats in the documentation: https://pandas.pydata.org/pandas-docs/stable/user_guide/indexing.html#returning-a-view-versus-a-copy\n",
      "  samples_sex[\"Sex\"] = samples_sex.Sample_Name.apply(lambda x: re.search(r\"-['MFUN0']-\", x).group().strip('-'))\n",
      "/tmp/ipykernel_412683/3062512628.py:2: SettingWithCopyWarning: \n",
      "A value is trying to be set on a copy of a slice from a DataFrame.\n",
      "Try using .loc[row_indexer,col_indexer] = value instead\n",
      "\n",
      "See the caveats in the documentation: https://pandas.pydata.org/pandas-docs/stable/user_guide/indexing.html#returning-a-view-versus-a-copy\n",
      "  samples_sex[\"run\"] = samples_sex['Sex'].str.replace('0','U')\n"
     ]
    }
   ],
   "source": [
    "samples_sex[\"Sex\"] = samples_sex.Sample_Name.apply(lambda x: re.search(r\"-['MFUN0']-\", x).group().strip('-'))\n",
    "samples_sex[\"Sex\"] = samples_sex['Sex'].str.replace('0','U')\n"
   ]
  },
  {
   "cell_type": "code",
   "execution_count": 8,
   "metadata": {},
   "outputs": [],
   "source": [
    "counts=pd.DataFrame(columns=[\"Run\",\"F\",\"M\",\"Other\"])"
   ]
  },
  {
   "cell_type": "code",
   "execution_count": 9,
   "metadata": {},
   "outputs": [
    {
     "data": {
      "text/plain": [
       "F    316\n",
       "M    208\n",
       "N      2\n",
       "U      1\n",
       "0      1\n",
       "Name: Sex, dtype: int64"
      ]
     },
     "execution_count": 9,
     "metadata": {},
     "output_type": "execute_result"
    }
   ],
   "source": [
    "samples_sex['Sex'].value_counts()"
   ]
  },
  {
   "cell_type": "code",
   "execution_count": 10,
   "metadata": {},
   "outputs": [],
   "source": [
    "from openpyxl import drawing, load_workbook\n",
    "from openpyxl.styles import Alignment, Border, DEFAULT_FONT, Font, Side\n",
    "from openpyxl.styles.fills import PatternFill\n",
    "from openpyxl.utils import get_column_letter\n",
    "\n",
    "writer = pd.ExcelWriter('/home/adriana/Projects/CNV/Validation/Patient_Sex.xlsx', engine='openpyxl')\n",
    "workbook= writer.book"
   ]
  },
  {
   "cell_type": "code",
   "execution_count": 11,
   "metadata": {},
   "outputs": [],
   "source": [
    "group=pd.DataFrame(samples_sex.groupby(by=['run','Sex']).count())\n",
    "group.to_excel(writer,sheet_name='Sex-by-run')\n",
    "workbook.save('/home/adriana/Projects/CNV/Validation/Patient_Sex.xlsx')"
   ]
  },
  {
   "cell_type": "code",
   "execution_count": 12,
   "metadata": {},
   "outputs": [
    {
     "name": "stdout",
     "output_type": "stream",
     "text": [
      "N    2\n",
      "Name: Sex, dtype: int64\n"
     ]
    },
    {
     "ename": "AttributeError",
     "evalue": "'Series' object has no attribute 'F'",
     "output_type": "error",
     "traceback": [
      "\u001b[0;31m---------------------------------------------------------------------------\u001b[0m",
      "\u001b[0;31mAttributeError\u001b[0m                            Traceback (most recent call last)",
      "\u001b[1;32m/home/adriana/Projects/CNV/Validation/sex_distribution/plot_sex.ipynb Cell 13\u001b[0m in \u001b[0;36m<module>\u001b[0;34m\u001b[0m\n\u001b[1;32m     <a href='vscode-notebook-cell:/home/adriana/Projects/CNV/Validation/sex_distribution/plot_sex.ipynb#ch0000010?line=14'>15</a>\u001b[0m \u001b[39mexcept\u001b[39;00m \u001b[39mAttributeError\u001b[39;00m:\n\u001b[1;32m     <a href='vscode-notebook-cell:/home/adriana/Projects/CNV/Validation/sex_distribution/plot_sex.ipynb#ch0000010?line=15'>16</a>\u001b[0m     other\u001b[39m+\u001b[39m\u001b[39m=\u001b[39m\u001b[39m0\u001b[39m\n\u001b[1;32m     <a href='vscode-notebook-cell:/home/adriana/Projects/CNV/Validation/sex_distribution/plot_sex.ipynb#ch0000010?line=17'>18</a>\u001b[0m df\u001b[39m=\u001b[39mpd\u001b[39m.\u001b[39mDataFrame([{\n\u001b[1;32m     <a href='vscode-notebook-cell:/home/adriana/Projects/CNV/Validation/sex_distribution/plot_sex.ipynb#ch0000010?line=18'>19</a>\u001b[0m                 \u001b[39m'\u001b[39m\u001b[39mRun\u001b[39m\u001b[39m'\u001b[39m: run,\n\u001b[0;32m---> <a href='vscode-notebook-cell:/home/adriana/Projects/CNV/Validation/sex_distribution/plot_sex.ipynb#ch0000010?line=19'>20</a>\u001b[0m                 \u001b[39m'\u001b[39m\u001b[39mF\u001b[39m\u001b[39m'\u001b[39m: samples_sex\u001b[39m.\u001b[39;49mloc[samples_sex[\u001b[39m'\u001b[39;49m\u001b[39mrun\u001b[39;49m\u001b[39m'\u001b[39;49m]\u001b[39m==\u001b[39;49m run][\u001b[39m'\u001b[39;49m\u001b[39mSex\u001b[39;49m\u001b[39m'\u001b[39;49m]\u001b[39m.\u001b[39;49mvalue_counts()\u001b[39m.\u001b[39;49mF,\n\u001b[1;32m     <a href='vscode-notebook-cell:/home/adriana/Projects/CNV/Validation/sex_distribution/plot_sex.ipynb#ch0000010?line=20'>21</a>\u001b[0m                 \u001b[39m'\u001b[39m\u001b[39mM\u001b[39m\u001b[39m'\u001b[39m: samples_sex\u001b[39m.\u001b[39mloc[samples_sex[\u001b[39m'\u001b[39m\u001b[39mrun\u001b[39m\u001b[39m'\u001b[39m]\u001b[39m==\u001b[39m run][\u001b[39m'\u001b[39m\u001b[39mSex\u001b[39m\u001b[39m'\u001b[39m]\u001b[39m.\u001b[39mvalue_counts()\u001b[39m.\u001b[39mM,\n\u001b[1;32m     <a href='vscode-notebook-cell:/home/adriana/Projects/CNV/Validation/sex_distribution/plot_sex.ipynb#ch0000010?line=21'>22</a>\u001b[0m                 \u001b[39m'\u001b[39m\u001b[39mOther\u001b[39m\u001b[39m'\u001b[39m: other\n\u001b[1;32m     <a href='vscode-notebook-cell:/home/adriana/Projects/CNV/Validation/sex_distribution/plot_sex.ipynb#ch0000010?line=22'>23</a>\u001b[0m                 }])\n\u001b[1;32m     <a href='vscode-notebook-cell:/home/adriana/Projects/CNV/Validation/sex_distribution/plot_sex.ipynb#ch0000010?line=24'>25</a>\u001b[0m \u001b[39m#df['Other'] = samples_sex.loc[samples_sex['run']== run]['Sex'].value_counts().N + samples_sex.loc[samples_sex['run']== run]['Sex'].value_counts().U\u001b[39;00m\n\u001b[1;32m     <a href='vscode-notebook-cell:/home/adriana/Projects/CNV/Validation/sex_distribution/plot_sex.ipynb#ch0000010?line=25'>26</a>\u001b[0m counts\u001b[39m=\u001b[39mpd\u001b[39m.\u001b[39mconcat([counts,df],ignore_index\u001b[39m=\u001b[39m\u001b[39mTrue\u001b[39;00m)\n",
      "File \u001b[0;32m~/.local/lib/python3.8/site-packages/pandas/core/generic.py:5583\u001b[0m, in \u001b[0;36mNDFrame.__getattr__\u001b[0;34m(self, name)\u001b[0m\n\u001b[1;32m   5576\u001b[0m \u001b[39mif\u001b[39;00m (\n\u001b[1;32m   5577\u001b[0m     name \u001b[39mnot\u001b[39;00m \u001b[39min\u001b[39;00m \u001b[39mself\u001b[39m\u001b[39m.\u001b[39m_internal_names_set\n\u001b[1;32m   5578\u001b[0m     \u001b[39mand\u001b[39;00m name \u001b[39mnot\u001b[39;00m \u001b[39min\u001b[39;00m \u001b[39mself\u001b[39m\u001b[39m.\u001b[39m_metadata\n\u001b[1;32m   5579\u001b[0m     \u001b[39mand\u001b[39;00m name \u001b[39mnot\u001b[39;00m \u001b[39min\u001b[39;00m \u001b[39mself\u001b[39m\u001b[39m.\u001b[39m_accessors\n\u001b[1;32m   5580\u001b[0m     \u001b[39mand\u001b[39;00m \u001b[39mself\u001b[39m\u001b[39m.\u001b[39m_info_axis\u001b[39m.\u001b[39m_can_hold_identifiers_and_holds_name(name)\n\u001b[1;32m   5581\u001b[0m ):\n\u001b[1;32m   5582\u001b[0m     \u001b[39mreturn\u001b[39;00m \u001b[39mself\u001b[39m[name]\n\u001b[0;32m-> 5583\u001b[0m \u001b[39mreturn\u001b[39;00m \u001b[39mobject\u001b[39;49m\u001b[39m.\u001b[39;49m\u001b[39m__getattribute__\u001b[39;49m(\u001b[39mself\u001b[39;49m, name)\n",
      "\u001b[0;31mAttributeError\u001b[0m: 'Series' object has no attribute 'F'"
     ]
    }
   ],
   "source": [
    "\n",
    "counts = pd.DataFrame(columns=[\"Run\",\"F\",\"M\",\"Other\"])\n",
    "\n",
    "for run in set(samples_sex['run'].to_list()):\n",
    "    print(samples_sex.loc[samples_sex['run']== run]['Sex'].value_counts())\n",
    "\n",
    "    other=0\n",
    "    try:\n",
    "        samples_sex.loc[samples_sex['run']== run]['Sex'].value_counts().N\n",
    "        other+=samples_sex.loc[samples_sex['run']== run]['Sex'].value_counts().N\n",
    "    except AttributeError:\n",
    "        other+=0\n",
    "    try:\n",
    "        samples_sex.loc[samples_sex['run']== run]['Sex'].value_counts().U\n",
    "        other+=samples_sex.loc[samples_sex['run']== run]['Sex'].value_counts().U\n",
    "    except AttributeError:\n",
    "        other+=0\n",
    "\n",
    "    df=pd.DataFrame([{\n",
    "                    'Run': run,\n",
    "                    'F': samples_sex.loc[samples_sex['run']== run]['Sex'].value_counts().F,\n",
    "                    'M': samples_sex.loc[samples_sex['run']== run]['Sex'].value_counts().M,\n",
    "                    'Other': other\n",
    "                    }])\n",
    "\n",
    "    #df['Other'] = samples_sex.loc[samples_sex['run']== run]['Sex'].value_counts().N + samples_sex.loc[samples_sex['run']== run]['Sex'].value_counts().U\n",
    "    counts=pd.concat([counts,df],ignore_index=True)\n",
    "\n"
   ]
  },
  {
   "cell_type": "code",
   "execution_count": null,
   "metadata": {},
   "outputs": [
    {
     "data": {
      "text/html": [
       "<div>\n",
       "<style scoped>\n",
       "    .dataframe tbody tr th:only-of-type {\n",
       "        vertical-align: middle;\n",
       "    }\n",
       "\n",
       "    .dataframe tbody tr th {\n",
       "        vertical-align: top;\n",
       "    }\n",
       "\n",
       "    .dataframe thead th {\n",
       "        text-align: right;\n",
       "    }\n",
       "</style>\n",
       "<table border=\"1\" class=\"dataframe\">\n",
       "  <thead>\n",
       "    <tr style=\"text-align: right;\">\n",
       "      <th></th>\n",
       "      <th>Run</th>\n",
       "      <th>F</th>\n",
       "      <th>M</th>\n",
       "      <th>Other</th>\n",
       "    </tr>\n",
       "  </thead>\n",
       "  <tbody>\n",
       "  </tbody>\n",
       "</table>\n",
       "</div>"
      ],
      "text/plain": [
       "Empty DataFrame\n",
       "Columns: [Run, F, M, Other]\n",
       "Index: []"
      ]
     },
     "execution_count": 13,
     "metadata": {},
     "output_type": "execute_result"
    }
   ],
   "source": [
    "counts"
   ]
  },
  {
   "cell_type": "code",
   "execution_count": null,
   "metadata": {},
   "outputs": [
    {
     "data": {
      "image/png": "[encoded data removed]",
      "text/plain": [
       "<Figure size 1080x576 with 1 Axes>"
      ]
     },
     "metadata": {},
     "output_type": "display_data"
    }
   ],
   "source": [
    "\n",
    "#sns.set(rc = {'figure.figsize':(15,8)})\n",
    "plt.figure(figsize = (15,8))\n",
    "sns.histplot(samples_sex.sort_values(by=['run']),x=\"run\",hue=\"Sex\",multiple=\"dodge\")\n",
    "#ax.set_xticklabels(ax.get_xticklabels(),rotation = 45)\n",
    "\n",
    "locs, labels = plt.xticks()\n",
    "plt.setp(labels, rotation=90)\n",
    "plt.suptitle('Patient Sex by run', fontsize = 18)\n",
    "plt.savefig('cen_11runs_sex.png')"
   ]
  },
  {
   "cell_type": "code",
   "execution_count": null,
   "metadata": {},
   "outputs": [],
   "source": []
  }
 ],
 "metadata": {
  "kernelspec": {
   "display_name": "Python 3.8.10 64-bit",
   "language": "python",
   "name": "python3"
  },
  "language_info": {
   "codemirror_mode": {
    "name": "ipython",
    "version": 3
   },
   "file_extension": ".py",
   "mimetype": "text/x-python",
   "name": "python",
   "nbconvert_exporter": "python",
   "pygments_lexer": "ipython3",
   "version": "3.8.10"
  },
  "orig_nbformat": 4,
  "vscode": {
   "interpreter": {
    "hash": "916dbcbb3f70747c44a77c7bcd40155683ae19c65e1c03b4aa3499c5328201f1"
   }
  }
 },
 "nbformat": 4,
 "nbformat_minor": 2
}
