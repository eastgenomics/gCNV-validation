{
 "cells": [
  {
   "cell_type": "code",
   "execution_count": 1,
   "id": "4a5efcc0",
   "metadata": {},
   "outputs": [],
   "source": [
    "import os\n",
    "import pandas as pd\n",
    "import numpy as np\n",
    "import io\n",
    "import vcf\n",
    "import seaborn as sns\n",
    "import matplotlib.pyplot as plt"
   ]
  },
  {
   "cell_type": "code",
   "execution_count": 2,
   "id": "b2c1b6e6",
   "metadata": {},
   "outputs": [],
   "source": [
    "def read_split_vcfs(path,run):\n",
    "    \"\"\"Parse annotated vcfs that have been processed with bcftools split-vep.\n",
    "    Return dataframe of vcfs.\n",
    "    \n",
    "    Arguments:\n",
    "    path -- path to split vcf files\n",
    "    run -- Run identifier (str)\n",
    "    \"\"\"\n",
    "\n",
    "    df = pd.DataFrame(columns=['Run','Sample',\"CHROM\",\"POS\",\"ID\",\"END\",\"CSQ_SYMBOL\",\"CSQ_Feature\", \"CSQ_EXON\", \"CSQ_INTRON\",\"QUAL\", \n",
    "                               \"GT\",\"CN\",\"NP\",\"QA\",\"QS\",\"QSE\",\"QSS\",\n",
    "                               \"REF\",\"ALT\",\"CSQ_VARIANT_CLASS\", \"CSQ_Consequence\", \"CSQ_IMPACT\",\"CSQ_STRAND\"])\n",
    "    directory = os.fsencode(path)\n",
    "    \n",
    "    for file in os.listdir(directory):\n",
    "        \n",
    "        filename = os.fsdecode(file)\n",
    "        \n",
    "        \n",
    "        if filename.endswith(\".split.vcf\"):\n",
    "            \n",
    "            vcf_reader = vcf.Reader(open((path+filename), 'r'))\n",
    "            sample=filename.replace(\".split.vcf\",\"\")\n",
    "\n",
    "            for record in vcf_reader:\n",
    "\n",
    "                entry = pd.DataFrame.from_dict({\n",
    "                    \"Run\": run,\n",
    "                    \"Sample\": filename,\n",
    "                    \"CHROM\": record.CHROM,\n",
    "                    \"POS\": record.POS,\n",
    "                    \"ID\":record.ID,\n",
    "                    \"REF\":record.REF,\n",
    "                    \"ALT\":record.ALT,\n",
    "                    \"QUAL\":record.QUAL,\n",
    "                    \"END\":record.INFO[\"END\"],\n",
    "                    \"CSQ_SYMBOL\":record.INFO[\"CSQ_SYMBOL\"],\n",
    "                    \"CSQ_Feature\":record.INFO[\"CSQ_Feature\"],\n",
    "                    \"CSQ_EXON\":record.INFO[\"CSQ_EXON\"], \n",
    "                    \"CSQ_INTRON\":record.INFO[\"CSQ_INTRON\"], \n",
    "                    \"GT\":record.genotype(sample)['GT'],\n",
    "                    \"CN\":record.genotype(sample)['CN'],\n",
    "                    \"NP\":record.genotype(sample)['NP'],\n",
    "                    \"QA\":record.genotype(sample)['QA'],\n",
    "                    \"QS\":record.genotype(sample)['QS'],\n",
    "                    \"QSE\":record.genotype(sample)['QSE'],\n",
    "                    \"QSS\":record.genotype(sample)['QSS'],\n",
    "                    \"CSQ_VARIANT_CLASS\":record.INFO[\"CSQ_VARIANT_CLASS\"], \n",
    "                    \"CSQ_IMPACT\":record.INFO[\"CSQ_IMPACT\"], \n",
    "                    \"CSQ_STRAND\":record.INFO[\"CSQ_STRAND\"],\n",
    "                    \"CSQ_Consequence\":record.INFO[\"CSQ_Consequence\"], \n",
    "    \n",
    "                    })\n",
    "\n",
    "                df = pd.concat([df, entry], ignore_index=True,sort=False)\n",
    "                \n",
    "    return df"
   ]
  },
  {
   "cell_type": "code",
   "execution_count": 3,
   "id": "40a9091b",
   "metadata": {},
   "outputs": [],
   "source": [
    "def read_segment_vcfs(path,run):\n",
    "    \"\"\" Parse unannotated segment vcfs from gCNV.\n",
    "    Return dataframe of vcfs.\n",
    "    \n",
    "    Arguments:\n",
    "    path -- path to split vcf files\n",
    "    run -- Run identifier (str)\n",
    "    \"\"\"\n",
    "\n",
    "    #  Create dataframe\n",
    "    df = pd.DataFrame(columns=['Run','Sample',\"CHROM\",\"POS\",\"ID\",\"REF\",\"ALT\",\"QUAL\",\"END\",\"GT\",\"CN\",\"NP\",\"QA\",\"QS\",\"QSE\",\"QSS\"])\n",
    "    \n",
    "    # Get path into variable\n",
    "    directory = os.fsencode(path)\n",
    "    \n",
    "    # Loop through files in the directory\n",
    "    for file in os.listdir(directory):\n",
    "        \n",
    "        # Extract name of file\n",
    "        filename = os.fsdecode(file)\n",
    "        \n",
    "        # Ensure only segments vcfs (merged intervals) are parsed\n",
    "        if filename.endswith(\"_segments.vcf\"):\n",
    "            \n",
    "            vcf_reader = vcf.Reader(open((path+filename), 'r'))\n",
    "            sample=filename.replace(\"_segments.vcf\",\"\")\n",
    "\n",
    "            # Populate dataframe (using pyvcf variables)\n",
    "            for record in vcf_reader:\n",
    "\n",
    "                entry = pd.DataFrame.from_dict({\n",
    "                    \"Run\": run,\n",
    "                    \"Sample\": filename,\n",
    "                    \"CHROM\": record.CHROM,\n",
    "                    \"POS\": record.POS,\n",
    "                    \"ID\":record.ID,\n",
    "                    \"REF\":record.REF,\n",
    "                    \"ALT\":record.ALT,\n",
    "                    \"QUAL\":record.QUAL,\n",
    "                    \"END\":record.INFO[\"END\"],\n",
    "                    \"GT\":record.genotype(sample)['GT'],\n",
    "                    \"CN\":record.genotype(sample)['CN'],\n",
    "                    \"NP\":record.genotype(sample)['NP'],\n",
    "                    \"QA\":record.genotype(sample)['QA'],\n",
    "                    \"QS\":record.genotype(sample)['QS'],\n",
    "                    \"QSE\":record.genotype(sample)['QSE'],\n",
    "                    \"QSS\":record.genotype(sample)['QSS'],    \n",
    "                    })\n",
    "                \n",
    "                df = pd.concat([df, entry], ignore_index=True,sort=False)\n",
    "                \n",
    "    return df"
   ]
  },
  {
   "cell_type": "code",
   "execution_count": null,
   "id": "01baf0a9",
   "metadata": {},
   "outputs": [],
   "source": [
    "# Create per run annotated dataframes for the three validation runs\n",
    "annotated39=read_split_vcfs(\"/opt/notebooks/0039/\",\"0039\")\n",
    "annotated42=read_split_vcfs(\"/opt/notebooks/0042/\",\"0042\")\n",
    "annotated50=read_split_vcfs(\"/opt/notebooks/0050/\",\"0050\")"
   ]
  },
  {
   "cell_type": "code",
   "execution_count": null,
   "id": "a922ecb9",
   "metadata": {},
   "outputs": [],
   "source": [
    "# Create per run unannotated dataframes the three validation runs\n",
    "raw39=read_segment_vcfs(\"/opt/notebooks/0039/unannotated/\",\"0039\")\n",
    "raw42=read_segment_vcfs(\"/opt/notebooks/0042/unannotated/\",\"0042\")\n",
    "raw50=read_segment_vcfs(\"/opt/notebooks/0050/unannotated/\",\"0050\")"
   ]
  },
  {
   "cell_type": "code",
   "execution_count": null,
   "id": "39550241",
   "metadata": {},
   "outputs": [],
   "source": [
    "# Create one dataframe with all CNV calls \n",
    "all_cnv_calls=pd.concat([raw39,raw42,raw50],ignore_index=True)\n",
    "\n",
    "# Sort dataframe first by chromosome then position\n",
    "all_cnv_calls.sort_values(by=['CHROM', 'POS'])\n",
    "\n",
    "# Setting to view all lines\n",
    "pd.set_option(\"display.max_rows\", None, \"display.max_columns\", None)\n",
    "\n",
    "# Couldn't figure out the type of None so change type to str to be able to filter no-calls\n",
    "all_cnv_calls[\"ALT\"] = all_cnv_calls[\"ALT\"].astype(str)\n",
    "filtered_calls=all_cnv_calls[(all_cnv_calls[\"ALT\"] != \"None\")].sort_values(by=['CHROM', 'POS'])\n",
    "\n",
    "# Save all CNV calls to a file\n",
    "filtered_calls.to_csv(\"All_Validation_CNVs_unannotated-220929.csv\",index=False)\n"
   ]
  },
  {
   "cell_type": "code",
   "execution_count": null,
   "id": "5b963772",
   "metadata": {},
   "outputs": [],
   "source": [
    "# Save per-run dataframes to files.\n",
    "annotated39.to_csv(\"0039-Annotated-CNV-Summary-220929.csv\",index=False)\n",
    "annotated42.to_csv(\"0042-Annotated-CNV-Summary-220802.csv\",index=False)\n",
    "annotated50.to_csv(\"0050-Annotated-CNV-Summary-220929.csv\",index=False)"
   ]
  },
  {
   "cell_type": "code",
   "execution_count": null,
   "id": "e61c1ba0",
   "metadata": {},
   "outputs": [],
   "source": [
    "# Make a all annotation dataframe\n",
    "all_annotated_cnvs=pd.concat([annotated39,annotated42,annotated50])\n",
    "\n",
    "# Save to file\n",
    "all_annotated_cnvs.to_csv(\"All_Validation_CNVs_annotated-220802.csv\",index=False)"
   ]
  },
  {
   "cell_type": "markdown",
   "id": "3245c65c",
   "metadata": {},
   "source": [
    "## Create additional summaries as required"
   ]
  },
  {
   "cell_type": "code",
   "execution_count": null,
   "id": "ed58d892",
   "metadata": {},
   "outputs": [],
   "source": [
    "# Create summaries for the minimum sample investifation\n",
    "annotated39_32=read_split_vcfs(\"/opt/notebooks/0039-32Samples/\",\"0039\")\n",
    "annotated39_32.to_csv(\"32sample_cohort_Annotated-CNV-Summary-220812.csv\",index=False)"
   ]
  },
  {
   "cell_type": "code",
   "execution_count": null,
   "id": "f5def40e",
   "metadata": {},
   "outputs": [],
   "source": [
    "# Add length to all CNVs from the three validation runs\n",
    "filtered_calls[\"Length\"] = filtered_calls[\"END\"] - filtered_calls[\"POS\"]"
   ]
  },
  {
   "cell_type": "code",
   "execution_count": null,
   "id": "9613ab1b",
   "metadata": {},
   "outputs": [],
   "source": [
    "# Read information about expected calls\n",
    "CENCNV_samples=pd.read_csv('/opt/notebooks/220802_concordant_details.csv',',')\n",
    "\n",
    "CENCNV_samples.sort_values(by='ID')"
   ]
  },
  {
   "cell_type": "code",
   "execution_count": 12,
   "id": "75e13284",
   "metadata": {},
   "outputs": [],
   "source": [
    "# Create summary for the sex ratio investigations\n",
    "annotated42_sex=read_split_vcfs(\"/opt/notebooks/sex-ratio/42-5m-27F/\",\"0042\")\n",
    "annotated42_sex.to_csv(\"0042-5M-27F-annotated_summary_220822.csv\",index=False)\n",
    "\n",
    "annotated39_sex=read_split_vcfs(\"/opt/notebooks/sex-ratio/39-5m-27F/\",\"0039\")\n",
    "annotated39_sex.to_csv(\"0039-5M-27F-annotated_summary_220822.csv\",index=False)\n"
   ]
  },
  {
   "cell_type": "code",
   "execution_count": 4,
   "id": "64c6ef73",
   "metadata": {},
   "outputs": [],
   "source": [
    "# Create per run unannotated dataframes\n",
    "raw35=read_segment_vcfs(\"/opt/notebooks/0035/unannotated/\",\"0035\")\n",
    "raw39=read_segment_vcfs(\"/opt/notebooks/0039/unannotated/\",\"0039\")\n",
    "raw40=read_segment_vcfs(\"/opt/notebooks/0040/unannotated/\",\"0040\")\n",
    "raw42=read_segment_vcfs(\"/opt/notebooks/0042/unannotated/\",\"0042\")\n",
    "raw45=read_segment_vcfs(\"/opt/notebooks/0045/unannotated/\",\"0045\")\n",
    "raw50=read_segment_vcfs(\"/opt/notebooks/0050/unannotated/\",\"0050\")\n",
    "raw53=read_segment_vcfs(\"/opt/notebooks/0053/unannotated/\",\"0053\")\n",
    "raw60=read_segment_vcfs(\"/opt/notebooks/0060/unannotated/\",\"0060\")\n",
    "raw58=read_segment_vcfs(\"/opt/notebooks/0058/unannotated/\",\"0058\")\n",
    "raw62=read_segment_vcfs(\"/opt/notebooks/0062/unannotated/\",\"0062\")\n",
    "raw65=read_segment_vcfs(\"/opt/notebooks/0065/unannotated/\",\"0065\")\n",
    "\n",
    "all_runs=pd.concat([raw35,raw39,raw40,raw42,raw45,raw50,raw53,raw58,raw60,raw62,raw65],ignore_index=True)\n",
    "\n",
    "all_runs.to_csv('11-CEN-Runs.csv',index=False)"
   ]
  },
  {
   "cell_type": "code",
   "execution_count": 10,
   "id": "1a059c60",
   "metadata": {},
   "outputs": [],
   "source": [
    "# positive only 0042 summary downsampled down to 15M\n",
    "positives_42_15m=read_split_vcfs(\"/opt/notebooks/downsampling/0042/0015/\",\"0042\")\n",
    "all_42_15M=read_segment_vcfs(\"/opt/notebooks/downsampling/0042/0015/unannotated/\",\"0042\")\n",
    "\n",
    "positives_42_15m.to_csv('0042-15M-positives.csv',index=False)\n",
    "all_42_15m.to_csv('0042-15M-all.csv',index=False)"
   ]
  },
  {
   "cell_type": "code",
   "execution_count": null,
   "id": "7ea8c7d7",
   "metadata": {},
   "outputs": [],
   "source": []
  }
 ],
 "metadata": {
  "kernelspec": {
   "display_name": "Python 3",
   "language": "python",
   "name": "python3"
  },
  "language_info": {
   "codemirror_mode": {
    "name": "ipython",
    "version": 3
   },
   "file_extension": ".py",
   "mimetype": "text/x-python",
   "name": "python",
   "nbconvert_exporter": "python",
   "pygments_lexer": "ipython3",
   "version": "3.6.5"
  }
 },
 "nbformat": 4,
 "nbformat_minor": 5
}
