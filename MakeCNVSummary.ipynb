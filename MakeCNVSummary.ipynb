{
 "cells": [
  {
   "cell_type": "code",
   "execution_count": 1,
   "id": "0ee5685d",
   "metadata": {},
   "outputs": [],
   "source": [
    "import os\n",
    "import pandas as pd\n",
    "import numpy as np\n",
    "import io\n",
    "import vcf\n",
    "import seaborn as sns\n",
    "import matplotlib.pyplot as plt"
   ]
  },
  {
   "cell_type": "code",
   "execution_count": 2,
   "id": "d1ce897c",
   "metadata": {},
   "outputs": [],
   "source": [
    "def read_split_vcfs(path,run):\n",
    "    \"\"\"Parse annotated vcfs that have been processed with bcftools split-vep.\n",
    "    Return dataframe of vcfs.\n",
    "    \n",
    "    Arguments:\n",
    "    path -- path to split vcf files\n",
    "    run -- Run identifier (str)\n",
    "    \"\"\"\n",
    "\n",
    "    df = pd.DataFrame(columns=['Run','Sample',\"CHROM\",\"POS\",\"ID\",\"END\",\"CSQ_SYMBOL\",\"CSQ_Feature\", \"CSQ_EXON\", \"CSQ_INTRON\",\"QUAL\", \n",
    "                               \"GT\",\"CN\",\"NP\",\"QA\",\"QS\",\"QSE\",\"QSS\",\n",
    "                               \"REF\",\"ALT\",\"CSQ_VARIANT_CLASS\", \"CSQ_Consequence\", \"CSQ_IMPACT\",\"CSQ_STRAND\"])\n",
    "    directory = os.fsencode(path)\n",
    "    \n",
    "    for file in os.listdir(directory):\n",
    "        \n",
    "        filename = os.fsdecode(file)\n",
    "        \n",
    "        \n",
    "        if filename.endswith(\".split.vcf\"):\n",
    "            \n",
    "            vcf_reader = vcf.Reader(open((path+filename), 'r'))\n",
    "            sample=filename.replace(\".split.vcf\",\"\")\n",
    "\n",
    "            for record in vcf_reader:\n",
    "\n",
    "                entry = pd.DataFrame.from_dict({\n",
    "                    \"Run\": run,\n",
    "                    \"Sample\": filename,\n",
    "                    \"CHROM\": record.CHROM,\n",
    "                    \"POS\": record.POS,\n",
    "                    \"ID\":record.ID,\n",
    "                    \"REF\":record.REF,\n",
    "                    \"ALT\":record.ALT,\n",
    "                    \"QUAL\":record.QUAL,\n",
    "                    \"END\":record.INFO[\"END\"],\n",
    "                    \"CSQ_SYMBOL\":record.INFO[\"CSQ_SYMBOL\"],\n",
    "                    \"CSQ_Feature\":record.INFO[\"CSQ_Feature\"],\n",
    "                    \"CSQ_EXON\":record.INFO[\"CSQ_EXON\"], \n",
    "                    \"CSQ_INTRON\":record.INFO[\"CSQ_INTRON\"], \n",
    "                    \"GT\":record.genotype(sample)['GT'],\n",
    "                    \"CN\":record.genotype(sample)['CN'],\n",
    "                    \"NP\":record.genotype(sample)['NP'],\n",
    "                    \"QA\":record.genotype(sample)['QA'],\n",
    "                    \"QS\":record.genotype(sample)['QS'],\n",
    "                    \"QSE\":record.genotype(sample)['QSE'],\n",
    "                    \"QSS\":record.genotype(sample)['QSS'],\n",
    "                    \"CSQ_VARIANT_CLASS\":record.INFO[\"CSQ_VARIANT_CLASS\"], \n",
    "                    \"CSQ_IMPACT\":record.INFO[\"CSQ_IMPACT\"], \n",
    "                    \"CSQ_STRAND\":record.INFO[\"CSQ_STRAND\"],\n",
    "                    \"CSQ_Consequence\":record.INFO[\"CSQ_Consequence\"], \n",
    "    \n",
    "                    })\n",
    "\n",
    "                df = pd.concat([df, entry], ignore_index=True,sort=False)\n",
    "                \n",
    "    return df"
   ]
  },
  {
   "cell_type": "code",
   "execution_count": 3,
   "id": "f16a47aa",
   "metadata": {},
   "outputs": [],
   "source": [
    "def read_segment_vcfs(path,run):\n",
    "    \"\"\" Parse unannotated segment vcfs from gCNV.\n",
    "    Return dataframe of vcfs.\n",
    "    \n",
    "    Arguments:\n",
    "    path -- path to split vcf files\n",
    "    run -- Run identifier (str)\n",
    "    \"\"\"\n",
    "\n",
    "    #  Create dataframe\n",
    "    df = pd.DataFrame(columns=['Run','Sample',\"CHROM\",\"POS\",\"ID\",\"REF\",\"ALT\",\"QUAL\",\"END\",\"GT\",\"CN\",\"NP\",\"QA\",\"QS\",\"QSE\",\"QSS\"])\n",
    "    \n",
    "    # Get path into variable\n",
    "    directory = os.fsencode(path)\n",
    "    \n",
    "    # Loop through files in the directory\n",
    "    for file in os.listdir(directory):\n",
    "        \n",
    "        # Extract name of file\n",
    "        filename = os.fsdecode(file)\n",
    "        \n",
    "        # Ensure only segments vcfs (merged intervals) are parsed\n",
    "        if filename.endswith(\"_segments.vcf\"):\n",
    "            \n",
    "            vcf_reader = vcf.Reader(open((path+filename), 'r'))\n",
    "            sample=filename.replace(\"_segments.vcf\",\"\")\n",
    "\n",
    "            # Populate dataframe (using pyvcf variables)\n",
    "            for record in vcf_reader:\n",
    "\n",
    "                entry = pd.DataFrame.from_dict({\n",
    "                    \"Run\": run,\n",
    "                    \"Sample\": filename,\n",
    "                    \"CHROM\": record.CHROM,\n",
    "                    \"POS\": record.POS,\n",
    "                    \"ID\":record.ID,\n",
    "                    \"REF\":record.REF,\n",
    "                    \"ALT\":record.ALT,\n",
    "                    \"QUAL\":record.QUAL,\n",
    "                    \"END\":record.INFO[\"END\"],\n",
    "                    \"GT\":record.genotype(sample)['GT'],\n",
    "                    \"CN\":record.genotype(sample)['CN'],\n",
    "                    \"NP\":record.genotype(sample)['NP'],\n",
    "                    \"QA\":record.genotype(sample)['QA'],\n",
    "                    \"QS\":record.genotype(sample)['QS'],\n",
    "                    \"QSE\":record.genotype(sample)['QSE'],\n",
    "                    \"QSS\":record.genotype(sample)['QSS'],    \n",
    "                    })\n",
    "                \n",
    "                df = pd.concat([df, entry], ignore_index=True,sort=False)\n",
    "                \n",
    "    return df"
   ]
  },
  {
   "cell_type": "code",
   "execution_count": null,
   "id": "d9faccc9",
   "metadata": {},
   "outputs": [],
   "source": [
    "# Create per run annotated dataframes\n",
    "annotated39=read_split_vcfs(\"/opt/notebooks/0039/\",\"0039\")\n",
    "annotated42=read_split_vcfs(\"/opt/notebooks/0042/\",\"0042\")\n",
    "annotated50=read_split_vcfs(\"/opt/notebooks/0050/\",\"0050\")"
   ]
  },
  {
   "cell_type": "code",
   "execution_count": null,
   "id": "19b815a9",
   "metadata": {},
   "outputs": [],
   "source": [
    "# Create per run unannotated dataframes\n",
    "raw39=read_segment_vcfs(\"/opt/notebooks/0039/unannotated/\",\"0039\")\n",
    "raw42=read_segment_vcfs(\"/opt/notebooks/0042/unannotated/\",\"0042\")\n",
    "raw50=read_segment_vcfs(\"/opt/notebooks/0050/unannotated/\",\"0050\")"
   ]
  },
  {
   "cell_type": "code",
   "execution_count": null,
   "id": "2ed55783",
   "metadata": {},
   "outputs": [],
   "source": [
    "# Create one dataframe with all CNV calls \n",
    "all_cnv_calls=pd.concat([raw39,raw42,raw50],ignore_index=True)"
   ]
  },
  {
   "cell_type": "code",
   "execution_count": null,
   "id": "b476d36d",
   "metadata": {},
   "outputs": [],
   "source": [
    "# Sort dataframe first by chromosome then position\n",
    "all_cnv_calls.sort_values(by=['CHROM', 'POS'])"
   ]
  },
  {
   "cell_type": "code",
   "execution_count": null,
   "id": "db41cd9d",
   "metadata": {},
   "outputs": [],
   "source": [
    "# Setting to view all lines\n",
    "pd.set_option(\"display.max_rows\", None, \"display.max_columns\", None)\n",
    "\n",
    "# Couldn't figure out the type of None so change type to str to be able to filter no-calls\n",
    "all_cnv_calls[\"ALT\"] = all_cnv_calls[\"ALT\"].astype(str)\n",
    "filtered_calls=all_cnv_calls[(all_cnv_calls[\"ALT\"] != \"None\")].sort_values(by=['CHROM', 'POS'])\n",
    "\n",
    "# Save all CNV calls to a file\n",
    "filtered_calls.to_csv(\"All_Validation_CNVs_unannotated-220929.csv\",index=False)\n",
    "\n",
    "#f[df['alcohol'] > 14.3]"
   ]
  },
  {
   "cell_type": "code",
   "execution_count": null,
   "id": "5d9c5824",
   "metadata": {},
   "outputs": [],
   "source": [
    "# Save per-run dataframes to files.\n",
    "annotated39.to_csv(\"0039-Annotated-CNV-Summary-220929.csv\",index=False)\n",
    "annotated42.to_csv(\"0042-Annotated-CNV-Summary-220802.csv\",index=False)\n",
    "annotated50.to_csv(\"0050-Annotated-CNV-Summary-220929.csv\",index=False)"
   ]
  },
  {
   "cell_type": "code",
   "execution_count": null,
   "id": "6ea7df11",
   "metadata": {},
   "outputs": [],
   "source": [
    "# Make a all annotation dataframe\n",
    "all_annotated_cnvs=pd.concat([annotated39,annotated42,annotated50])"
   ]
  },
  {
   "cell_type": "code",
   "execution_count": null,
   "id": "f89846e7",
   "metadata": {},
   "outputs": [],
   "source": [
    "# Save to file\n",
    "all_annotated_cnvs.to_csv(\"All_Validation_CNVs_annotated-220802.csv\",index=False)"
   ]
  },
  {
   "cell_type": "code",
   "execution_count": null,
   "id": "0ac8cf8e",
   "metadata": {},
   "outputs": [],
   "source": []
  },
  {
   "cell_type": "markdown",
   "id": "bec720ae",
   "metadata": {},
   "source": [
    "### Plot quality scores\n",
    "\n",
    "Available metrics & information:\n",
    "- QUAL: PHRED Quality Score\n",
    "- CN - Segment most-likely copy-number call\n",
    "- GT - Segment genotype\n",
    "- NP - Number of points (i.e. targets or bins) in the segment\n",
    "- QA - Complementary Phred-scaled probability that all points (i.e. targets or bins) in the segment agree with the segment copy-number call\n",
    "- QS - Complementary Phred-scaled probability that at least one point (i.e. target or bin) in the segment agrees with the segment copy-number call\n",
    "- QSE - Complementary Phred-scaled probability that the segment end position is a genuine copy-number changepoint\n",
    "- QSS - Complementary Phred-scaled probability that the segment start position is a genuine copy-number changepoint\n"
   ]
  },
  {
   "cell_type": "code",
   "execution_count": null,
   "id": "c7ba7509",
   "metadata": {},
   "outputs": [],
   "source": [
    "annotated39_32=read_split_vcfs(\"/opt/notebooks/0039-32Samples/\",\"0039\")\n",
    "annotated39_32.to_csv(\"32sample_cohort_Annotated-CNV-Summary-220812.csv\",index=False)"
   ]
  },
  {
   "cell_type": "code",
   "execution_count": null,
   "id": "a8e0bfd3",
   "metadata": {},
   "outputs": [],
   "source": [
    "filtered_calls[\"Length\"] = filtered_calls[\"END\"] - filtered_calls[\"POS\"]"
   ]
  },
  {
   "cell_type": "code",
   "execution_count": null,
   "id": "b6727ffc",
   "metadata": {},
   "outputs": [],
   "source": [
    "filtered_calls\n"
   ]
  },
  {
   "cell_type": "code",
   "execution_count": null,
   "id": "be4bdc5e",
   "metadata": {},
   "outputs": [],
   "source": [
    "CENCNV_samples=pd.read_csv('/opt/notebooks/220802_concordant_details.csv',',')"
   ]
  },
  {
   "cell_type": "code",
   "execution_count": null,
   "id": "49bea94a",
   "metadata": {},
   "outputs": [],
   "source": [
    "CENCNV_samples"
   ]
  },
  {
   "cell_type": "code",
   "execution_count": null,
   "id": "f334470e",
   "metadata": {},
   "outputs": [],
   "source": [
    "CENCNV_samples.sort_values(by='ID')"
   ]
  },
  {
   "cell_type": "code",
   "execution_count": null,
   "id": "145a5b68",
   "metadata": {},
   "outputs": [],
   "source": [
    "sns.set()\n",
    "filtered_calls.sort_values(by='Length')\n",
    "sns.histplot(data=filtered_calls,x=\"Length\", kde=True)\n",
    "plt.show()"
   ]
  },
  {
   "cell_type": "code",
   "execution_count": null,
   "id": "ebfc521c",
   "metadata": {},
   "outputs": [],
   "source": [
    "calls2plot=filtered_calls.copy()\n",
    "\n",
    "sns.histplot(data=calls2plot,x=\"Length\", kde=True)\n",
    "plt.show()"
   ]
  },
  {
   "cell_type": "code",
   "execution_count": null,
   "id": "406a1a5a",
   "metadata": {},
   "outputs": [],
   "source": [
    "\n"
   ]
  },
  {
   "cell_type": "code",
   "execution_count": null,
   "id": "688f0b4f",
   "metadata": {},
   "outputs": [],
   "source": [
    "print(length.sort())"
   ]
  },
  {
   "cell_type": "code",
   "execution_count": 12,
   "id": "c4a47c50",
   "metadata": {},
   "outputs": [],
   "source": [
    "annotated42_sex=read_split_vcfs(\"/opt/notebooks/sex-ratio/42-5m-27F/\",\"0042\")\n",
    "\n"
   ]
  },
  {
   "cell_type": "code",
   "execution_count": 13,
   "id": "a95c4c6a",
   "metadata": {},
   "outputs": [],
   "source": [
    "annotated42_sex.to_csv(\"0042-5M-27F-annotated_summary_220822.csv\",index=False)"
   ]
  },
  {
   "cell_type": "code",
   "execution_count": 11,
   "id": "c2aa959f",
   "metadata": {},
   "outputs": [],
   "source": [
    "annotated39_sex=read_split_vcfs(\"/opt/notebooks/sex-ratio/39-5m-27F/\",\"0039\")\n",
    "\n",
    "annotated39_sex.to_csv(\"0039-5M-27F-annotated_summary_220822.csv\",index=False)"
   ]
  },
  {
   "cell_type": "code",
   "execution_count": null,
   "id": "1d3b35ac",
   "metadata": {},
   "outputs": [],
   "source": []
  },
  {
   "cell_type": "code",
   "execution_count": 4,
   "id": "e5dac9e2",
   "metadata": {},
   "outputs": [],
   "source": [
    "# Create per run unannotated dataframes\n",
    "raw35=read_segment_vcfs(\"/opt/notebooks/0035/unannotated/\",\"0035\")\n",
    "raw39=read_segment_vcfs(\"/opt/notebooks/0039/unannotated/\",\"0039\")\n",
    "raw40=read_segment_vcfs(\"/opt/notebooks/0040/unannotated/\",\"0040\")\n",
    "raw42=read_segment_vcfs(\"/opt/notebooks/0042/unannotated/\",\"0042\")\n",
    "raw45=read_segment_vcfs(\"/opt/notebooks/0045/unannotated/\",\"0045\")\n",
    "raw50=read_segment_vcfs(\"/opt/notebooks/0050/unannotated/\",\"0050\")\n",
    "raw53=read_segment_vcfs(\"/opt/notebooks/0053/unannotated/\",\"0053\")\n",
    "raw60=read_segment_vcfs(\"/opt/notebooks/0060/unannotated/\",\"0060\")\n",
    "raw58=read_segment_vcfs(\"/opt/notebooks/0058/unannotated/\",\"0058\")\n",
    "raw62=read_segment_vcfs(\"/opt/notebooks/0062/unannotated/\",\"0062\")\n",
    "raw65=read_segment_vcfs(\"/opt/notebooks/0065/unannotated/\",\"0065\")\n",
    "\n",
    "all_runs=pd.concat([raw35,raw39,raw40,raw42,raw45,raw50,raw53,raw58,raw60,raw62,raw65],ignore_index=True)\n",
    "\n",
    "all_runs.to_csv('11-CEN-Runs.csv',index=False)\n",
    "\n"
   ]
  },
  {
   "cell_type": "code",
   "execution_count": null,
   "id": "a9d0b1f1",
   "metadata": {},
   "outputs": [],
   "source": []
  }
 ],
 "metadata": {
  "kernelspec": {
   "display_name": "Python 3",
   "language": "python",
   "name": "python3"
  },
  "language_info": {
   "codemirror_mode": {
    "name": "ipython",
    "version": 3
   },
   "file_extension": ".py",
   "mimetype": "text/x-python",
   "name": "python",
   "nbconvert_exporter": "python",
   "pygments_lexer": "ipython3",
   "version": "3.6.5"
  }
 },
 "nbformat": 4,
 "nbformat_minor": 5
}
